{
 "cells": [
  {
   "cell_type": "code",
   "execution_count": 1,
   "id": "96013fa9-e80f-462d-9423-b8ba7400dd2b",
   "metadata": {},
   "outputs": [],
   "source": [
    "from langchain_groq import ChatGroq"
   ]
  },
  {
   "cell_type": "code",
   "execution_count": 2,
   "id": "5880f8ed-a431-4b0d-b6a4-18c9a208e6fb",
   "metadata": {},
   "outputs": [
    {
     "name": "stdout",
     "output_type": "stream",
     "text": [
      "The first person to land on the moon was Neil Armstrong. He stepped out of the lunar module Eagle and onto the moon's surface on July 20, 1969, during the Apollo 11 mission. Armstrong famously declared, \"That's one small step for man, one giant leap for mankind,\" as he became the first human to set foot on the moon.\n"
     ]
    }
   ],
   "source": [
    "llm=ChatGroq(\n",
    "    temperature=0,\n",
    "    groq_api_key='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',\n",
    "    model_name=\"llama-3.3-70b-versatile\"\n",
    ")\n",
    "response=llm.invoke(\"the first person to land on the moon was ...\")\n",
    "print(response.content)"
   ]
  },
  {
   "cell_type": "code",
   "execution_count": 3,
   "id": "78fa6574-1774-4da7-9d0c-0160e1af882f",
   "metadata": {},
   "outputs": [
    {
     "name": "stderr",
     "output_type": "stream",
     "text": [
      "USER_AGENT environment variable not set, consider setting it to identify your requests.\n"
     ]
    },
    {
     "name": "stdout",
     "output_type": "stream",
     "text": [
      "AI Content Lead, Think with Google — Google CareersCareersSkip navigation linksTeamsLocationsBenefitsJobsStudentsYour careerarrow_drop_downYour career menu ApplicationsProfileSaved jobsJob alertsSign inCareersApplicationsProfileSearch jobsSaved jobsJob alertsTeamsLocationsBenefitsJobsStudentsHelpSend Feedbackjob detailsarrow_backBack to jobs searchJobs search results6  jobs matchedAI Content Lead, Think with GoogleGurgaon, Haryana, IndiaAI Sales Specialist, Google CloudSydney NSW, Australia; Canberra ACT, AustraliaData Scientist, Extended Workforce SolutionsHyderabad, Telangana, IndiaSenior Software Developer AI/Machine Learning, Applied AIWaterloo, ON, Canada; Cambridge, MA, USAPractice Specialist, Generative AI, Google CloudSeoul, South KoreaSenior Software Engineer, Natural Language Processing, Google ResearchTel Aviv, Israel1‑6 of 6Follow Life at Google on More about usAbout usopen_in_newContact usopen_in_newPressopen_in_newRelated InformationInvestor relationsopen_in_newBlogopen_in_newEqual OpportunityGoogle is proud to be an equal opportunity and affirmative action employer. We are committed to building a workforce that is representative of the users we serve, creating a culture of belonging, and providing an equal employment opportunity regardless of race, creed, color, religion, gender, sexual orientation, gender identity/expression, national origin, disability, age, genetic information, veteran status, marital status, pregnancy or related condition (including breastfeeding), expecting or parents-to-be, criminal histories consistent with legal requirements, or any other basis protected by law. See also  Google's EEO Policy, Know your rights: workplace discrimination is illegal, Belonging at Google, and How we hire.More about usexpand_moreRelated informationexpand_moreEqual opportunityexpand_morePrivacyopen_in_newApplicant & Candidate Privacyopen_in_newTermsopen_in_newhelpHelpopen_in_newarrow_backBack to jobs searchAI Content Lead, Think with Googleshare linkCopy linkemailEmail a friendcorporate_fareGoogleplaceGurgaon, Haryana, Indiabar_chartMidMidExperience driving progress, solving problems, and mentoring more junior team members; deeper expertise and applied knowledge within relevant area.Applyshare linkCopy linkemailEmail a friendMinimum qualifications:\n",
      "Bachelor's degree or equivalent practical experience.\n",
      "6 years of experience in marketing.\n",
      "Experience using AI tools to develop content.\n",
      "Preferred qualifications:\n",
      "Experience in prompt engineering.\n",
      "Experience in leveraging external data to create content.\n",
      "Experience creating content about marketing, advertising, or AI.\n",
      "Experience using AI to create high quality, insightful content.\n",
      "Knowledge of programming languages or experience optimizing AI tools for content development.\n",
      "About the jobGoogle is at the forefront of a revolution in marketing. The Scaled Growth and Content team drives growth for our business by providing our customers with actionable insights and content that helps them be better marketers.As an AI Content Lead, you will create content for executive marketing audiences. An essential part of the job is using AI to develop or enhance the content. You will be responsible for  creating a  stream of output and partnering with technical teams to optimize AI tools for content creation.Responsibilities\n",
      "Use AI to produce  content for Business-to-Business audience - written and visual/alternative formats.\n",
      "Identify story ideas, conduct light research, and pre-work (e.g., interviews).\n",
      "Own development of content from ideation, generating drafts, to editing.\n",
      "Leverage external/public data sources to identify insights and create content.\n",
      "Produce  content pieces at regular pace.\n",
      "Information collected and processed as part of your Google Careers profile, and any job applications you choose to submit is subject to Google's Applicant and Candidate Privacy Policy.Google is proud to be an equal opportunity and affirmative action employer. We are committed to building a workforce that is representative of the users we serve, creating a culture of belonging, and providing an equal employment opportunity regardless of race, creed, color, religion, gender, sexual orientation, gender identity/expression, national origin, disability, age, genetic information, veteran status, marital status, pregnancy or related condition (including breastfeeding), expecting or parents-to-be, criminal histories consistent with legal requirements, or any other basis protected by law. See also  Google's EEO Policy, Know your rights: workplace discrimination is illegal, Belonging at Google, and How we hire.If you have a need that requires accommodation, please let us know by completing our Accommodations for Applicants form.Google is a global company and, in order to facilitate efficient collaboration and communication globally, English proficiency is a requirement for all roles unless stated otherwise in the job posting.To all recruitment agencies: Google does not accept agency resumes. Please do not forward resumes to our jobs alias, Google employees, or any other organization location. Google is not responsible for any fees related to unsolicited resumes.Follow Life at Google on More about usAbout usopen_in_newContact usopen_in_newPressopen_in_newRelated InformationInvestor relationsopen_in_newBlogopen_in_newEqual OpportunityGoogle is proud to be an equal opportunity and affirmative action employer. We are committed to building a workforce that is representative of the users we serve, creating a culture of belonging, and providing an equal employment opportunity regardless of race, creed, color, religion, gender, sexual orientation, gender identity/expression, national origin, disability, age, genetic information, veteran status, marital status, pregnancy or related condition (including breastfeeding), expecting or parents-to-be, criminal histories consistent with legal requirements, or any other basis protected by law. See also  Google's EEO Policy, Know your rights: workplace discrimination is illegal, Belonging at Google, and How we hire.More about usexpand_moreRelated informationexpand_moreEqual opportunityexpand_morePrivacyopen_in_newApplicant & Candidate Privacyopen_in_newTermsopen_in_newhelpHelpopen_in_newFollow Life at Google on More about usAbout usopen_in_newContact usopen_in_newPressopen_in_newRelated InformationInvestor relationsopen_in_newBlogopen_in_newEqual OpportunityGoogle is proud to be an equal opportunity and affirmative action employer. We are committed to building a workforce that is representative of the users we serve, creating a culture of belonging, and providing an equal employment opportunity regardless of race, creed, color, religion, gender, sexual orientation, gender identity/expression, national origin, disability, age, genetic information, veteran status, marital status, pregnancy or related condition (including breastfeeding), expecting or parents-to-be, criminal histories consistent with legal requirements, or any other basis protected by law. See also  Google's EEO Policy, Know your rights: workplace discrimination is illegal, Belonging at Google, and How we hire.More about usexpand_moreRelated informationexpand_moreEqual opportunityexpand_morePrivacyopen_in_newApplicant & Candidate Privacyopen_in_newTermsopen_in_newhelpHelpopen_in_newGoogle appsMain menu\n"
     ]
    }
   ],
   "source": [
    "from langchain_community.document_loaders import WebBaseLoader\n",
    "\n",
    "loader = WebBaseLoader(\"https://www.google.com/about/careers/applications/jobs/results/90573335728923334-ai-content-lead-think-with-google?tag=ai-spotlight\")\n",
    "page_data=loader.load().pop().page_content\n",
    "print(page_data)"
   ]
  },
  {
   "cell_type": "code",
   "execution_count": 5,
   "id": "1f95bcd7-b85d-4f9d-bf5f-d193e618c844",
   "metadata": {},
   "outputs": [
    {
     "data": {
      "text/plain": [
       "str"
      ]
     },
     "execution_count": 5,
     "metadata": {},
     "output_type": "execute_result"
    }
   ],
   "source": [
    "from langchain_core.prompts import PromptTemplate\n",
    "\n",
    "prompt_extract = PromptTemplate.from_template(\n",
    "        \"\"\"\n",
    "        ### SCRAPED TEXT FROM WEBSITE:\n",
    "        {page_data}\n",
    "        ### INSTRUCTION:\n",
    "        The scraped text is from the career's page of a website.\n",
    "        Your job is to extract the job postings and return them in JSON format containing the \n",
    "        following keys: `role`, `experience`, `skills` and `description`.\n",
    "        Only return the valid JSON.\n",
    "        ### VALID JSON (NO PREAMBLE):    \n",
    "        \"\"\"\n",
    ")\n",
    "\n",
    "chain_extract = prompt_extract | llm \n",
    "res = chain_extract.invoke(input={'page_data':page_data})\n",
    "type(res.content)"
   ]
  },
  {
   "cell_type": "code",
   "execution_count": 6,
   "id": "63142089-3dad-44e1-8081-6150aa0c7584",
   "metadata": {},
   "outputs": [
    {
     "data": {
      "text/plain": [
       "[{'role': 'AI Content Lead, Think with Google',\n",
       "  'experience': '6 years of experience in marketing',\n",
       "  'skills': ['AI tools',\n",
       "   'Content development',\n",
       "   'Marketing',\n",
       "   'Prompt engineering',\n",
       "   'Leveraging external data',\n",
       "   'Programming languages'],\n",
       "  'description': 'Create content for executive marketing audiences using AI, partner with technical teams to optimize AI tools, and produce content pieces at a regular pace'},\n",
       " {'role': 'AI Sales Specialist, Google Cloud',\n",
       "  'experience': 'Not specified',\n",
       "  'skills': ['AI', 'Sales', 'Cloud computing'],\n",
       "  'description': 'Not specified'},\n",
       " {'role': 'Data Scientist, Extended Workforce Solutions',\n",
       "  'experience': 'Not specified',\n",
       "  'skills': ['Data science', 'Extended workforce solutions'],\n",
       "  'description': 'Not specified'},\n",
       " {'role': 'Senior Software Developer AI/Machine Learning, Applied AI',\n",
       "  'experience': 'Not specified',\n",
       "  'skills': ['AI', 'Machine learning', 'Software development'],\n",
       "  'description': 'Not specified'},\n",
       " {'role': 'Practice Specialist, Generative AI, Google Cloud',\n",
       "  'experience': 'Not specified',\n",
       "  'skills': ['Generative AI', 'Cloud computing'],\n",
       "  'description': 'Not specified'},\n",
       " {'role': 'Senior Software Engineer, Natural Language Processing, Google Research',\n",
       "  'experience': 'Not specified',\n",
       "  'skills': ['Natural language processing', 'Software engineering'],\n",
       "  'description': 'Not specified'}]"
      ]
     },
     "execution_count": 6,
     "metadata": {},
     "output_type": "execute_result"
    }
   ],
   "source": [
    "from langchain_core.output_parsers import JsonOutputParser\n",
    "\n",
    "json_parser = JsonOutputParser()\n",
    "json_res = json_parser.parse(res.content)\n",
    "json_res"
   ]
  },
  {
   "cell_type": "code",
   "execution_count": 7,
   "id": "deef159e-c66a-4cb5-867f-2cdf26e03c4f",
   "metadata": {},
   "outputs": [
    {
     "data": {
      "text/html": [
       "<div>\n",
       "<style scoped>\n",
       "    .dataframe tbody tr th:only-of-type {\n",
       "        vertical-align: middle;\n",
       "    }\n",
       "\n",
       "    .dataframe tbody tr th {\n",
       "        vertical-align: top;\n",
       "    }\n",
       "\n",
       "    .dataframe thead th {\n",
       "        text-align: right;\n",
       "    }\n",
       "</style>\n",
       "<table border=\"1\" class=\"dataframe\">\n",
       "  <thead>\n",
       "    <tr style=\"text-align: right;\">\n",
       "      <th></th>\n",
       "      <th>Techstack</th>\n",
       "      <th>Links</th>\n",
       "    </tr>\n",
       "  </thead>\n",
       "  <tbody>\n",
       "    <tr>\n",
       "      <th>0</th>\n",
       "      <td>React, Node.js, MongoDB</td>\n",
       "      <td>https://zelin.com/react-portfolio</td>\n",
       "    </tr>\n",
       "    <tr>\n",
       "      <th>1</th>\n",
       "      <td>Angular,.NET, SQL Server</td>\n",
       "      <td>https://zelin.com/angular-portfolio</td>\n",
       "    </tr>\n",
       "    <tr>\n",
       "      <th>2</th>\n",
       "      <td>Vue.js, Ruby on Rails, PostgreSQL</td>\n",
       "      <td>https://zelin.com/vue-portfolio</td>\n",
       "    </tr>\n",
       "    <tr>\n",
       "      <th>3</th>\n",
       "      <td>Python, Django, MySQL</td>\n",
       "      <td>https://zelin.com/python-portfolio</td>\n",
       "    </tr>\n",
       "    <tr>\n",
       "      <th>4</th>\n",
       "      <td>Java, Spring Boot, Oracle</td>\n",
       "      <td>https://zelin.com/java-portfolio</td>\n",
       "    </tr>\n",
       "    <tr>\n",
       "      <th>5</th>\n",
       "      <td>Flutter, Firebase, GraphQL</td>\n",
       "      <td>https://zelin.com/flutter-portfolio</td>\n",
       "    </tr>\n",
       "    <tr>\n",
       "      <th>6</th>\n",
       "      <td>WordPress, PHP, MySQL</td>\n",
       "      <td>https://zelin.com/wordpress-portfolio</td>\n",
       "    </tr>\n",
       "    <tr>\n",
       "      <th>7</th>\n",
       "      <td>Magento, PHP, MySQL</td>\n",
       "      <td>https://zelin.com/magento-portfolio</td>\n",
       "    </tr>\n",
       "    <tr>\n",
       "      <th>8</th>\n",
       "      <td>React Native, Node.js, MongoDB</td>\n",
       "      <td>https://zelin.com/react-native-portfolio</td>\n",
       "    </tr>\n",
       "    <tr>\n",
       "      <th>9</th>\n",
       "      <td>iOS, Swift, Core Data</td>\n",
       "      <td>https://zelin.com/ios-portfolio</td>\n",
       "    </tr>\n",
       "    <tr>\n",
       "      <th>10</th>\n",
       "      <td>Android, Java, Room Persistence</td>\n",
       "      <td>https://zelin.com/android-portfolio</td>\n",
       "    </tr>\n",
       "    <tr>\n",
       "      <th>11</th>\n",
       "      <td>Kotlin, Android, Firebase</td>\n",
       "      <td>https://zelin.com/kotlin-android-portfolio</td>\n",
       "    </tr>\n",
       "    <tr>\n",
       "      <th>12</th>\n",
       "      <td>Android TV, Kotlin, Android NDK</td>\n",
       "      <td>https://zelin.com/android-tv-portfolio</td>\n",
       "    </tr>\n",
       "    <tr>\n",
       "      <th>13</th>\n",
       "      <td>iOS, Swift, ARKit</td>\n",
       "      <td>https://zelin.com/ios-ar-portfolio</td>\n",
       "    </tr>\n",
       "    <tr>\n",
       "      <th>14</th>\n",
       "      <td>Cross-platform, Xamarin, Azure</td>\n",
       "      <td>https://zelin.com/xamarin-portfolio</td>\n",
       "    </tr>\n",
       "    <tr>\n",
       "      <th>15</th>\n",
       "      <td>Backend, Kotlin, Spring Boot</td>\n",
       "      <td>https://zelin.com/kotlin-backend-portfolio</td>\n",
       "    </tr>\n",
       "    <tr>\n",
       "      <th>16</th>\n",
       "      <td>Frontend, TypeScript, Angular</td>\n",
       "      <td>https://zelin.com/typescript-frontend-portfolio</td>\n",
       "    </tr>\n",
       "    <tr>\n",
       "      <th>17</th>\n",
       "      <td>Full-stack, JavaScript, Express.js</td>\n",
       "      <td>https://zelin.com/full-stack-js-portfolio</td>\n",
       "    </tr>\n",
       "    <tr>\n",
       "      <th>18</th>\n",
       "      <td>Machine Learning, Python, TensorFlow</td>\n",
       "      <td>https://zelin.com/ml-python-portfolio</td>\n",
       "    </tr>\n",
       "    <tr>\n",
       "      <th>19</th>\n",
       "      <td>DevOps, Jenkins, Docker</td>\n",
       "      <td>https://zelin.com/devops-portfolio</td>\n",
       "    </tr>\n",
       "  </tbody>\n",
       "</table>\n",
       "</div>"
      ],
      "text/plain": [
       "                               Techstack  \\\n",
       "0                React, Node.js, MongoDB   \n",
       "1               Angular,.NET, SQL Server   \n",
       "2      Vue.js, Ruby on Rails, PostgreSQL   \n",
       "3                  Python, Django, MySQL   \n",
       "4              Java, Spring Boot, Oracle   \n",
       "5             Flutter, Firebase, GraphQL   \n",
       "6                  WordPress, PHP, MySQL   \n",
       "7                    Magento, PHP, MySQL   \n",
       "8         React Native, Node.js, MongoDB   \n",
       "9                  iOS, Swift, Core Data   \n",
       "10       Android, Java, Room Persistence   \n",
       "11             Kotlin, Android, Firebase   \n",
       "12       Android TV, Kotlin, Android NDK   \n",
       "13                     iOS, Swift, ARKit   \n",
       "14        Cross-platform, Xamarin, Azure   \n",
       "15          Backend, Kotlin, Spring Boot   \n",
       "16         Frontend, TypeScript, Angular   \n",
       "17    Full-stack, JavaScript, Express.js   \n",
       "18  Machine Learning, Python, TensorFlow   \n",
       "19               DevOps, Jenkins, Docker   \n",
       "\n",
       "                                              Links  \n",
       "0                 https://zelin.com/react-portfolio  \n",
       "1               https://zelin.com/angular-portfolio  \n",
       "2                   https://zelin.com/vue-portfolio  \n",
       "3                https://zelin.com/python-portfolio  \n",
       "4                  https://zelin.com/java-portfolio  \n",
       "5               https://zelin.com/flutter-portfolio  \n",
       "6             https://zelin.com/wordpress-portfolio  \n",
       "7               https://zelin.com/magento-portfolio  \n",
       "8          https://zelin.com/react-native-portfolio  \n",
       "9                   https://zelin.com/ios-portfolio  \n",
       "10              https://zelin.com/android-portfolio  \n",
       "11       https://zelin.com/kotlin-android-portfolio  \n",
       "12           https://zelin.com/android-tv-portfolio  \n",
       "13               https://zelin.com/ios-ar-portfolio  \n",
       "14              https://zelin.com/xamarin-portfolio  \n",
       "15       https://zelin.com/kotlin-backend-portfolio  \n",
       "16  https://zelin.com/typescript-frontend-portfolio  \n",
       "17        https://zelin.com/full-stack-js-portfolio  \n",
       "18            https://zelin.com/ml-python-portfolio  \n",
       "19               https://zelin.com/devops-portfolio  "
      ]
     },
     "execution_count": 7,
     "metadata": {},
     "output_type": "execute_result"
    }
   ],
   "source": [
    "import pandas as pd\n",
    "\n",
    "df = pd.read_csv(\"my_portfolio.csv\")\n",
    "df"
   ]
  },
  {
   "cell_type": "code",
   "execution_count": 8,
   "id": "35127946-a4c6-49e3-b237-3b105d476b0e",
   "metadata": {},
   "outputs": [],
   "source": [
    "import uuid\n",
    "import chromadb\n",
    "\n",
    "client = chromadb.PersistentClient('vectorstore')\n",
    "collection = client.get_or_create_collection(name=\"portfolio\")\n",
    "\n",
    "if not collection.count():\n",
    "    for _, row in df.iterrows():\n",
    "        collection.add(documents=row[\"Techstack\"],\n",
    "                       metadatas={\"links\": row[\"Links\"]},\n",
    "                       ids=[str(uuid.uuid4())])"
   ]
  },
  {
   "cell_type": "code",
   "execution_count": 11,
   "id": "107535a5-00f5-4cff-a69c-d4dd8dfdfafa",
   "metadata": {},
   "outputs": [
    {
     "data": {
      "text/plain": [
       "['AI tools',\n",
       " 'Content development',\n",
       " 'Marketing',\n",
       " 'Prompt engineering',\n",
       " 'Leveraging external data',\n",
       " 'Programming languages']"
      ]
     },
     "execution_count": 11,
     "metadata": {},
     "output_type": "execute_result"
    }
   ],
   "source": [
    "job = json_res[0]\n",
    "job['skills']"
   ]
  },
  {
   "cell_type": "code",
   "execution_count": 12,
   "id": "1186e38c-17be-4781-9c5d-0b22bae81130",
   "metadata": {},
   "outputs": [
    {
     "data": {
      "text/plain": [
       "[[{'links': 'https://zelin.com/ml-python-portfolio'},\n",
       "  {'links': 'https://zelin.com/ios-ar-portfolio'}],\n",
       " [{'links': 'https://zelin.com/wordpress-portfolio'},\n",
       "  {'links': 'https://zelin.com/magento-portfolio'}],\n",
       " [{'links': 'https://zelin.com/magento-portfolio'},\n",
       "  {'links': 'https://zelin.com/ml-python-portfolio'}],\n",
       " [{'links': 'https://zelin.com/devops-portfolio'},\n",
       "  {'links': 'https://zelin.com/kotlin-backend-portfolio'}],\n",
       " [{'links': 'https://zelin.com/ios-portfolio'},\n",
       "  {'links': 'https://zelin.com/ml-python-portfolio'}],\n",
       " [{'links': 'https://zelin.com/ml-python-portfolio'},\n",
       "  {'links': 'https://zelin.com/magento-portfolio'}]]"
      ]
     },
     "execution_count": 12,
     "metadata": {},
     "output_type": "execute_result"
    }
   ],
   "source": [
    "\n",
    "links = collection.query(query_texts=job['skills'], n_results=2).get('metadatas', [])\n",
    "links"
   ]
  },
  {
   "cell_type": "code",
   "execution_count": 13,
   "id": "f271fc41-e5fe-4226-b4d7-c9441026f8f9",
   "metadata": {},
   "outputs": [
    {
     "name": "stdout",
     "output_type": "stream",
     "text": [
      "Subject: Unlocking AI-Powered Content Creation with Zelin\n",
      "\n",
      "Dear Hiring Manager,\n",
      "\n",
      "I came across the job description for the AI Content Lead role at Think with Google, and I was impressed by the opportunity to leverage AI in creating compelling content for executive marketing audiences. As a Business Development Executive at Zelin, I'd like to introduce our company's capabilities in empowering businesses like yours to harness the power of AI and automation.\n",
      "\n",
      "With 6 years of experience in marketing being a key requirement for this role, I'd like to highlight Zelin's expertise in developing tailored solutions that cater to the unique needs of marketing teams. Our team has a proven track record of delivering scalable, optimized, and efficient solutions that drive business growth. We've worked with numerous enterprises, fostering process optimization, cost reduction, and heightened overall efficiency.\n",
      "\n",
      "Our expertise in AI tools, content development, and programming languages makes us an ideal partner for creating content using AI. We can help you optimize AI tools, produce high-quality content pieces at a regular pace, and leverage external data to inform your marketing strategies. Our team is well-versed in prompt engineering, ensuring that your AI-powered content resonates with your target audience.\n",
      "\n",
      "I'd like to draw your attention to some of our notable projects that demonstrate our capabilities in AI and machine learning:\n",
      "\n",
      "* Our ML Python portfolio (https://zelin.com/ml-python-portfolio) showcases our expertise in developing machine learning models and integrating them with Python applications.\n",
      "* Our DevOps portfolio (https://zelin.com/devops-portfolio) highlights our ability to streamline development and deployment processes, ensuring seamless integration of AI tools.\n",
      "\n",
      "By partnering with Zelin, you can tap into our expertise in AI, machine learning, and software development to create innovative content that drives business results. I'd be delighted to schedule a call to discuss how our capabilities align with your requirements and explore potential collaboration opportunities.\n",
      "\n",
      "Please feel free to reply to this email or schedule a call at your convenience. I look forward to the possibility of working together to unlock the full potential of AI-powered content creation.\n",
      "\n",
      "Best regards,\n",
      "\n",
      "Ragavan\n",
      "Business Development Executive\n",
      "Zelin\n"
     ]
    }
   ],
   "source": [
    "prompt_email = PromptTemplate.from_template(\n",
    "        \"\"\"\n",
    "        ### JOB DESCRIPTION:\n",
    "        {job_description}\n",
    "        \n",
    "        ### INSTRUCTION:\n",
    "        You are ragavan, a business development executive at zelin.  zelin is an AI & Software Consulting company dedicated to facilitating\n",
    "        the seamless integration of business processes through automated tools. \n",
    "        Over our experience, we have empowered numerous enterprises with tailored solutions, fostering scalability, \n",
    "        process optimization, cost reduction, and heightened overall efficiency. \n",
    "        Your job is to write a cold email to the client regarding the job mentioned above describing the capability of zelin \n",
    "        in fulfilling their needs.\n",
    "        Also add the most relevant ones from the following links to showcase zelin's portfolio: {link_list}\n",
    "        Remember you are ragavan, BDE at zelin. \n",
    "        Do not provide a preamble.\n",
    "        ### EMAIL (NO PREAMBLE):\n",
    "        \n",
    "        \"\"\"\n",
    "        )\n",
    "\n",
    "chain_email = prompt_email | llm\n",
    "res = chain_email.invoke({\"job_description\": str(job), \"link_list\": links})\n",
    "print(res.content)"
   ]
  }
 ],
 "metadata": {
  "kernelspec": {
   "display_name": "Python 3 (ipykernel)",
   "language": "python",
   "name": "python3"
  },
  "language_info": {
   "codemirror_mode": {
    "name": "ipython",
    "version": 3
   },
   "file_extension": ".py",
   "mimetype": "text/x-python",
   "name": "python",
   "nbconvert_exporter": "python",
   "pygments_lexer": "ipython3",
   "version": "3.11.7"
  }
 },
 "nbformat": 4,
 "nbformat_minor": 5
}
